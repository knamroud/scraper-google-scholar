{
 "cells": [
  {
   "cell_type": "code",
   "execution_count": 1,
   "id": "87f1db8a-fe71-4cbd-9126-ea2df89fb8ae",
   "metadata": {},
   "outputs": [],
   "source": [
    "from bs4 import BeautifulSoup\n",
    "from time import sleep\n",
    "from requests_tor import RequestsTor\n",
    "from functools import partial\n",
    "from multiprocessing import Process, Manager"
   ]
  },
  {
   "cell_type": "code",
   "execution_count": 2,
   "id": "aea977e7-6ebe-4ca2-878c-3dec4d5476e8",
   "metadata": {},
   "outputs": [],
   "source": [
    "HEADERS = {\n",
    "    \"Accept\": \"*\",\n",
    "    \"User-Agent\": \"Mozilla/5.0 (Windows NT 6.1; Win64; x64; rv:47.0) Gecko/20100101 Firefox/47.0\"\n",
    "}\n",
    "TOR_PORTS = {\n",
    "    \"main\": (9050,),\n",
    "    \"controller\": 9051,\n",
    "    \"others\": tuple(range(9000, 9010)) #10 ports are needed since the maximum results number on a page is 10\n",
    "}"
   ]
  },
  {
   "cell_type": "code",
   "execution_count": 3,
   "id": "6527d1b9-260b-4122-b50a-5d7286934fa2",
   "metadata": {},
   "outputs": [],
   "source": [
    "def main():\n",
    "    rt = RequestsTor(tor_ports=TOR_PORTS[\"main\"], tor_cport=TOR_PORTS[\"controller\"], autochange_id=0)\n",
    "    rt.new_ip = partial(new_ip, rt)\n",
    "    rt.new_ip()\n",
    "    print(scrape(query_builder(\"ciao\"), rt))"
   ]
  },
  {
   "cell_type": "code",
   "execution_count": 4,
   "id": "cc332a14-0d3f-4445-b914-31f6506e92e6",
   "metadata": {},
   "outputs": [],
   "source": [
    "def new_ip(self):\n",
    "    '''Method used to make sure new_id gets a new exit node'''\n",
    "    ip = self.check_ip()\n",
    "    while(ip == self.check_ip()):\n",
    "        sleep(1)\n",
    "        self.new_id()"
   ]
  },
  {
   "cell_type": "code",
   "execution_count": 5,
   "id": "5f1bb44c-87fe-4230-bb02-ca3b52c3ceb9",
   "metadata": {},
   "outputs": [],
   "source": [
    "class ResultScraper(Process):\n",
    "    '''Class for scraping single results, using multithreading'''\n",
    "    def __init__(self, data: list, result: BeautifulSoup, tor_port: int):\n",
    "        super(ResultScraper, self).__init__()\n",
    "        self.result = result\n",
    "        self.data = data\n",
    "        self.rt = RequestsTor(tor_ports=(tor_port,),  tor_cport=TOR_PORTS[\"controller\"], autochange_id=0)\n",
    "        self.rt.new_ip = partial(new_ip, self.rt)\n",
    "        \n",
    "    def run(self):\n",
    "        self.rt.new_ip()\n",
    "        while True:\n",
    "            if (no := self.result.find(class_=\"gs_ggs gs_fl\")):\n",
    "                no.extract()\n",
    "            try:\n",
    "                tmp = self.rt.get(BeautifulSoup(self.rt.get(f\"https://scholar.google.com/scholar?q=info:{self.result.get('data-cid')}:scholar.google.com/&output=cite\", headers=HEADERS).content, \"html.parser\").find(\"a\", class_=\"gs_citi\").get(\"href\"), headers=HEADERS).content.decode()\n",
    "                assert \"html\" not in tmp, \"IP Blocked\"\n",
    "            except Exception as e:\n",
    "                self.rt.new_ip()\n",
    "                continue\n",
    "            break\n",
    "        self.data.append(tmp)    "
   ]
  },
  {
   "cell_type": "code",
   "execution_count": 6,
   "id": "b312e05e-85cb-4f07-90ce-abc6a7054e17",
   "metadata": {},
   "outputs": [],
   "source": [
    "def query_builder(basic_search: str = None, includes_all: str = None, exact_sentence: str = None, includes_one: str = None, \n",
    "                  exclude: str = None, in_title: bool = None, language: str = None, interval: tuple = None, \n",
    "                  only_science: bool = None, include_patents: bool = None, include_citations: bool = None, sort_by_date: bool = None, \n",
    "                  authors: list = None, sources: list = None, page: int = None)-> str:\n",
    "    '''Create search queries for Google Scholar'''\n",
    "    assert bool(includes_all or exact_sentence or includes_one) ^ bool(basic_search and not (authors or sources or in_title)), \"Invalid search query.\" \n",
    "    return \"https://scholar.google.com/scholar?\" + \\\n",
    "        (f\"&q={basic_search.replace(' ', '+')}\" if basic_search else \"\") + \\\n",
    "        (f\"&as_q={includes_all.replace(' ', '+')}\" if includes_all else \"\") + \\\n",
    "        (f\"&as_epq={exact_sentence.replace(' ', '+')}\" if exact_sentence else \"\") + \\\n",
    "        (f\"&as_oq={includes_one.replace(' ', '+')}\" if includes_one else \"\") + \\\n",
    "        (f\"&as_eq={exclude.replace(' ', '+')}\" if exclude else \"\") + \\\n",
    "        (f\"&as_occt=title\" if in_title else \"\") + \\\n",
    "        (f\"\"\"&as_sauthors={'+'.join([f'\"{a.replace(\" \", \"+\")}\"' for a in authors])}\"\"\" if authors else \"\") + \\\n",
    "        (f\"\"\"&as_publication={'+'.join([f'\"{s.replace(\" \", \"+\")}\"' for s in sources])}\"\"\" if sources else \"\") + \\\n",
    "        (f\"&lr=lang_{language}?hl={language}\" if language else \"\") + \\\n",
    "        (((f\"&as_ylo={interval[0]}\" + \\\n",
    "            (f\"&as_yhi={interval[1]}\" if len(interval) == 2 else \"\"))) if interval else \"\") + \\\n",
    "        (\"&as_rr=1\" if only_science else \"\") + \\\n",
    "        (\"&as_sdt=2007\" if include_patents else \"\") + \\\n",
    "        (\"&as_vis=1\" if include_citations else \"\") + \\\n",
    "        (\"&scisbd=1\" if sort_by_date else \"\") + \\\n",
    "        (f\"&start={(page-1)*10}\" if page else \"\")"
   ]
  },
  {
   "cell_type": "code",
   "execution_count": 7,
   "id": "f2878879-961e-454f-8f60-e20bd27af8a6",
   "metadata": {},
   "outputs": [],
   "source": [
    "def scrape(search: str, rt: RequestsTor) -> list:\n",
    "    '''Scrapes data from given search query'''\n",
    "    while True:\n",
    "        try:\n",
    "            soup = BeautifulSoup(rt.get(search, headers=HEADERS).content, \"html.parser\")\n",
    "            soup.style.decompose()\n",
    "            soup.br.decompose()\n",
    "            results = soup.find_all(\"div\", class_ =\"gs_r gs_or gs_scl\")\n",
    "        except Exception as e:\n",
    "            rt.new_ip()\n",
    "            continue\n",
    "        break\n",
    "    with Manager() as manager:\n",
    "        data = manager.list([])\n",
    "        processes = [ResultScraper(data, results[i], TOR_PORTS[\"others\"][i]) for i in range(len(results))]\n",
    "        for proc in processes:\n",
    "            proc.start()\n",
    "        for proc in processes:\n",
    "            proc.join()\n",
    "        return list(data)"
   ]
  },
  {
   "cell_type": "code",
   "execution_count": 8,
   "id": "c72b1892-140b-4d06-9f5c-bdf2d6764a43",
   "metadata": {},
   "outputs": [
    {
     "name": "stdout",
     "output_type": "stream",
     "text": [
      "['@article{ciao2011reducing,\\n  title={Reducing obesity stigma: The effectiveness of cognitive dissonance and social consensus interventions},\\n  author={Ciao, Anna C and Latner, Janet D},\\n  journal={Obesity},\\n  volume={19},\\n  number={9},\\n  pages={1768--1774},\\n  year={2011},\\n  publisher={Wiley Online Library}\\n}\\n', '@inproceedings{hong2021learning,\\n  title={Learning by fixing: Solving math word problems with weak supervision},\\n  author={Hong, Yining and Li, Qing and Ciao, Daniel and Huang, Siyuan and Zhu, Song-Chun},\\n  booktitle={Proceedings of the AAAI Conference on Artificial Intelligence},\\n  volume={35},\\n  number={6},\\n  pages={4959--4967},\\n  year={2021}\\n}\\n', \"@article{danielsdottir2010anti,\\n  title={Anti-fat prejudice reduction: a review of published studies},\\n  author={Dan{\\\\'\\\\i}elsd{\\\\'o}ttir, Sigr{\\\\'e}n and O'Brien, Kerry S and Ciao, Anna},\\n  journal={Obesity facts},\\n  volume={3},\\n  number={1},\\n  pages={47--58},\\n  year={2010},\\n  publisher={Karger Publishers}\\n}\\n\", '@article{fagugli2003association,\\n  title={Association between extracellular water, left ventricular mass and hypertension in haemodialysis patients},\\n  author={Fagugli, Riccardo Maria and Pasini, Paolo and Quintaliani, Giuseppe and Pasticci, Franca and Ciao, Giovanni and Cicconi, Beatrice and Ricciardi, Daniela and Santirosi, Paola Vittoria and Buoncristiani, Emanuela and Timio, Francesca and others},\\n  journal={Nephrology Dialysis Transplantation},\\n  volume={18},\\n  number={11},\\n  pages={2332--2338},\\n  year={2003},\\n  publisher={Oxford University Press}\\n}\\n', '@article{ciao2014preventing,\\n  title={Preventing eating disorder pathology: Common and unique features of successful eating disorders prevention programs},\\n  author={Ciao, Anna C and Loth, Katie and Neumark-Sztainer, Dianne},\\n  journal={Current psychiatry reports},\\n  volume={16},\\n  pages={1--13},\\n  year={2014},\\n  publisher={Springer}\\n}\\n', '@article{durso2016weight,\\n  title={Weight bias internalization in treatment-seeking overweight adults: Psychometric validation and associations with self-esteem, body image, and mood symptoms},\\n  author={Durso, Laura E and Latner, Janet D and Ciao, Anna C},\\n  journal={Eating Behaviors},\\n  volume={21},\\n  pages={104--108},\\n  year={2016},\\n  publisher={Elsevier}\\n}\\n', '@article{accurso2014weight,\\n  title={Is weight gain really a catalyst for broader recovery?: The impact of weight gain on psychological symptoms in the treatment of adolescent anorexia nervosa},\\n  author={Accurso, Erin C and Ciao, Anna C and Fitzsimmons-Craft, Ellen E and Lock, James D and Le Grange, Daniel},\\n  journal={Behaviour research and therapy},\\n  volume={56},\\n  pages={1--6},\\n  year={2014},\\n  publisher={Elsevier}\\n}\\n', '@article{becker2005reducing,\\n  title={Reducing eating disorder risk factors in sorority members: A randomized trial},\\n  author={Becker, Carolyn Black and Smith, Lisa M and Ciao, Anna C},\\n  journal={Behavior Therapy},\\n  volume={36},\\n  number={3},\\n  pages={245--253},\\n  year={2005},\\n  publisher={Elsevier}\\n}\\n', '@article{fagugli2001short,\\n  title={Short daily hemodialysis: blood pressure control and left ventricular mass reduction in hypertensive hemodialysis patients},\\n  author={Fagugli, Riccardo Maria and Reboldi, Gianpaolo and Quintaliani, Giuseppe and Pasini, Paolo and Ciao, Giovanni and Cicconi, Beatrice and Pasticci, Franca and Kaufman, Jean Marie and Buoncristiani, Umberto},\\n  journal={American journal of kidney diseases},\\n  volume={38},\\n  number={2},\\n  pages={371--376},\\n  year={2001},\\n  publisher={Elsevier}\\n}\\n', '@article{becker2006peer,\\n  title={Peer-facilitated eating disorder prevention: A randomized effectiveness trial of cognitive dissonance and media advocacy.},\\n  author={Becker, Carolyn Black and Smith, Lisa M and Ciao, Anna C},\\n  journal={Journal of Counseling Psychology},\\n  volume={53},\\n  number={4},\\n  pages={550},\\n  year={2006},\\n  publisher={American Psychological Association}\\n}\\n']\n"
     ]
    }
   ],
   "source": [
    "if __name__== \"__main__\":\n",
    "    main()"
   ]
  },
  {
   "cell_type": "code",
   "execution_count": null,
   "id": "c4d4b891-a8ed-4e94-b0f0-7e0dfd9f953e",
   "metadata": {},
   "outputs": [],
   "source": []
  }
 ],
 "metadata": {
  "kernelspec": {
   "display_name": "scraper-google-scholar-PVqszBlI",
   "language": "python",
   "name": "scraper-google-scholar-pvqszbli"
  },
  "language_info": {
   "codemirror_mode": {
    "name": "ipython",
    "version": 3
   },
   "file_extension": ".py",
   "mimetype": "text/x-python",
   "name": "python",
   "nbconvert_exporter": "python",
   "pygments_lexer": "ipython3",
   "version": "3.10.10"
  }
 },
 "nbformat": 4,
 "nbformat_minor": 5
}

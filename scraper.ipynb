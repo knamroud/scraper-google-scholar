{
 "cells": [
  {
   "cell_type": "code",
   "execution_count": null,
   "id": "87f1db8a-fe71-4cbd-9126-ea2df89fb8ae",
   "metadata": {},
   "outputs": [],
   "source": [
    "from bs4 import BeautifulSoup\n",
    "import requests\n",
    "import pandas as pd"
   ]
  },
  {
   "cell_type": "code",
   "execution_count": null,
   "id": "6527d1b9-260b-4122-b50a-5d7286934fa2",
   "metadata": {},
   "outputs": [],
   "source": [
    "def main():\n",
    "    pass"
   ]
  },
  {
   "cell_type": "code",
   "execution_count": 13,
   "id": "b312e05e-85cb-4f07-90ce-abc6a7054e17",
   "metadata": {},
   "outputs": [],
   "source": [
    "def query_builder(basic_search: str = None, includes_all: str = None, exact_sentence: str = None, includes_one: str = None, \n",
    "                  exclude: str = None, in_title: bool = None, language: str = None, interval: tuple[int, int] = None, \n",
    "                  only_science: bool = None, include_patents: bool = None, include_citations: bool = None, sort_by_date: bool = None, \n",
    "                  authors: list = None, sources: list = None)-> str:\n",
    "    '''Create search queries for Google Scholar'''\n",
    "    assert bool(includes_all or exact_sentence or includes_one) ^ bool(basic_search and not (authors or sources or in_title)), \"Invalid search query.\" \n",
    "    return \"https://scholar.google.com/scholar?\" + \\\n",
    "        (f\"&q={basic_search.replace(' ', '+')}\" if basic_search else \"\") + \\\n",
    "        (f\"&as_q={includes_all.replace(' ', '+')}\" if includes_all else \"\") + \\\n",
    "        (f\"&as_epq={exact_sentence.replace(' ', '+')}\" if exact_sentence else \"\") + \\\n",
    "        (f\"&as_oq={includes_one.replace(' ', '+')}\" if includes_one else \"\") + \\\n",
    "        (f\"&as_eq={exclude.replace(' ', '+')}\" if exclude else \"\") + \\\n",
    "        (f\"&as_occt=title\" if in_title else \"\") + \\\n",
    "        (f\"\"\"&as_sauthors={'+'.join([f'\"{a.replace(\" \", \"+\")}\"' for a in authors])}\"\"\" if authors else \"\") + \\\n",
    "        (f\"\"\"&as_publication={'+'.join([f'\"{s.replace(\" \", \"+\")}\"' for s in sources])}\"\"\" if sources else \"\") + \\\n",
    "        (f\"&lr=lang_{language}?hl={language}\" if language else \"\") + \\\n",
    "        (((f\"&as_ylo={interval[0]}\" + \\\n",
    "            (f\"&as_yhi={interval[1]}\" if len(interval) == 2 else \"\"))) if interval else \"\") + \\\n",
    "        (\"&as_rr=1\" if only_science else \"\") + \\\n",
    "        (\"&as_sdt=2007\" if include_patents else \"\") + \\\n",
    "        (\"&as_vis=1\" if include_citations else \"\") + \\\n",
    "        (\"&scisbd=1\" if sort_by_date else \"\")"
   ]
  },
  {
   "cell_type": "code",
   "execution_count": 14,
   "id": "f2878879-961e-454f-8f60-e20bd27af8a6",
   "metadata": {},
   "outputs": [
    {
     "ename": "AssertionError",
     "evalue": "Invalid search query.",
     "output_type": "error",
     "traceback": [
      "\u001b[0;31m---------------------------------------------------------------------------\u001b[0m",
      "\u001b[0;31mAssertionError\u001b[0m                            Traceback (most recent call last)",
      "Cell \u001b[0;32mIn[14], line 2\u001b[0m\n\u001b[1;32m      1\u001b[0m \u001b[38;5;28;01mif\u001b[39;00m \u001b[38;5;18m__name__\u001b[39m \u001b[38;5;241m==\u001b[39m \u001b[38;5;124m\"\u001b[39m\u001b[38;5;124m__main__\u001b[39m\u001b[38;5;124m\"\u001b[39m: \n\u001b[0;32m----> 2\u001b[0m     \u001b[38;5;28mprint\u001b[39m(\u001b[43mquery_builder\u001b[49m\u001b[43m(\u001b[49m\u001b[43m)\u001b[49m)\n",
      "Cell \u001b[0;32mIn[13], line 6\u001b[0m, in \u001b[0;36mquery_builder\u001b[0;34m(basic_search, includes_all, exact_sentence, includes_one, exclude, in_title, language, interval, only_science, include_patents, include_citations, sort_by_date, authors, sources)\u001b[0m\n\u001b[1;32m      1\u001b[0m \u001b[38;5;28;01mdef\u001b[39;00m \u001b[38;5;21mquery_builder\u001b[39m(basic_search: \u001b[38;5;28mstr\u001b[39m \u001b[38;5;241m=\u001b[39m \u001b[38;5;28;01mNone\u001b[39;00m, includes_all: \u001b[38;5;28mstr\u001b[39m \u001b[38;5;241m=\u001b[39m \u001b[38;5;28;01mNone\u001b[39;00m, exact_sentence: \u001b[38;5;28mstr\u001b[39m \u001b[38;5;241m=\u001b[39m \u001b[38;5;28;01mNone\u001b[39;00m, includes_one: \u001b[38;5;28mstr\u001b[39m \u001b[38;5;241m=\u001b[39m \u001b[38;5;28;01mNone\u001b[39;00m, \n\u001b[1;32m      2\u001b[0m                   exclude: \u001b[38;5;28mstr\u001b[39m \u001b[38;5;241m=\u001b[39m \u001b[38;5;28;01mNone\u001b[39;00m, in_title: \u001b[38;5;28mbool\u001b[39m \u001b[38;5;241m=\u001b[39m \u001b[38;5;28;01mNone\u001b[39;00m, language: \u001b[38;5;28mstr\u001b[39m \u001b[38;5;241m=\u001b[39m \u001b[38;5;28;01mNone\u001b[39;00m, interval: \u001b[38;5;28mtuple\u001b[39m[\u001b[38;5;28mint\u001b[39m, \u001b[38;5;28mint\u001b[39m] \u001b[38;5;241m=\u001b[39m \u001b[38;5;28;01mNone\u001b[39;00m, \n\u001b[1;32m      3\u001b[0m                   only_science: \u001b[38;5;28mbool\u001b[39m \u001b[38;5;241m=\u001b[39m \u001b[38;5;28;01mNone\u001b[39;00m, include_patents: \u001b[38;5;28mbool\u001b[39m \u001b[38;5;241m=\u001b[39m \u001b[38;5;28;01mNone\u001b[39;00m, include_citations: \u001b[38;5;28mbool\u001b[39m \u001b[38;5;241m=\u001b[39m \u001b[38;5;28;01mNone\u001b[39;00m, sort_by_date: \u001b[38;5;28mbool\u001b[39m \u001b[38;5;241m=\u001b[39m \u001b[38;5;28;01mNone\u001b[39;00m, \n\u001b[1;32m      4\u001b[0m                   authors: \u001b[38;5;28mlist\u001b[39m \u001b[38;5;241m=\u001b[39m \u001b[38;5;28;01mNone\u001b[39;00m, sources: \u001b[38;5;28mlist\u001b[39m \u001b[38;5;241m=\u001b[39m \u001b[38;5;28;01mNone\u001b[39;00m)\u001b[38;5;241m-\u001b[39m\u001b[38;5;241m>\u001b[39m \u001b[38;5;28mstr\u001b[39m:\n\u001b[1;32m      5\u001b[0m     \u001b[38;5;124;03m'''Create search queries for Google Scholar'''\u001b[39;00m\n\u001b[0;32m----> 6\u001b[0m     \u001b[38;5;28;01massert\u001b[39;00m \u001b[38;5;28mbool\u001b[39m(includes_all \u001b[38;5;129;01mor\u001b[39;00m exact_sentence \u001b[38;5;129;01mor\u001b[39;00m includes_one) \u001b[38;5;241m^\u001b[39m \u001b[38;5;28mbool\u001b[39m(basic_search \u001b[38;5;129;01mand\u001b[39;00m \u001b[38;5;129;01mnot\u001b[39;00m (authors \u001b[38;5;129;01mor\u001b[39;00m sources \u001b[38;5;129;01mor\u001b[39;00m in_title)), \u001b[38;5;124m\"\u001b[39m\u001b[38;5;124mInvalid search query.\u001b[39m\u001b[38;5;124m\"\u001b[39m \n\u001b[1;32m      7\u001b[0m     \u001b[38;5;28;01mreturn\u001b[39;00m \u001b[38;5;124m\"\u001b[39m\u001b[38;5;124mhttps://scholar.google.com/scholar?\u001b[39m\u001b[38;5;124m\"\u001b[39m \u001b[38;5;241m+\u001b[39m \\\n\u001b[1;32m      8\u001b[0m         (\u001b[38;5;124mf\u001b[39m\u001b[38;5;124m\"\u001b[39m\u001b[38;5;124m&q=\u001b[39m\u001b[38;5;132;01m{\u001b[39;00mbasic_search\u001b[38;5;241m.\u001b[39mreplace(\u001b[38;5;124m'\u001b[39m\u001b[38;5;124m \u001b[39m\u001b[38;5;124m'\u001b[39m, \u001b[38;5;124m'\u001b[39m\u001b[38;5;124m+\u001b[39m\u001b[38;5;124m'\u001b[39m)\u001b[38;5;132;01m}\u001b[39;00m\u001b[38;5;124m\"\u001b[39m \u001b[38;5;28;01mif\u001b[39;00m basic_search \u001b[38;5;28;01melse\u001b[39;00m \u001b[38;5;124m\"\u001b[39m\u001b[38;5;124m\"\u001b[39m) \u001b[38;5;241m+\u001b[39m \\\n\u001b[1;32m      9\u001b[0m         (\u001b[38;5;124mf\u001b[39m\u001b[38;5;124m\"\u001b[39m\u001b[38;5;124m&as_q=\u001b[39m\u001b[38;5;132;01m{\u001b[39;00mincludes_all\u001b[38;5;241m.\u001b[39mreplace(\u001b[38;5;124m'\u001b[39m\u001b[38;5;124m \u001b[39m\u001b[38;5;124m'\u001b[39m, \u001b[38;5;124m'\u001b[39m\u001b[38;5;124m+\u001b[39m\u001b[38;5;124m'\u001b[39m)\u001b[38;5;132;01m}\u001b[39;00m\u001b[38;5;124m\"\u001b[39m \u001b[38;5;28;01mif\u001b[39;00m includes_all \u001b[38;5;28;01melse\u001b[39;00m \u001b[38;5;124m\"\u001b[39m\u001b[38;5;124m\"\u001b[39m) \u001b[38;5;241m+\u001b[39m \\\n\u001b[0;32m   (...)\u001b[0m\n\u001b[1;32m     21\u001b[0m         (\u001b[38;5;124m\"\u001b[39m\u001b[38;5;124m&as_vis=1\u001b[39m\u001b[38;5;124m\"\u001b[39m \u001b[38;5;28;01mif\u001b[39;00m include_citations \u001b[38;5;28;01melse\u001b[39;00m \u001b[38;5;124m\"\u001b[39m\u001b[38;5;124m\"\u001b[39m) \u001b[38;5;241m+\u001b[39m \\\n\u001b[1;32m     22\u001b[0m         (\u001b[38;5;124m\"\u001b[39m\u001b[38;5;124m&scisbd=1\u001b[39m\u001b[38;5;124m\"\u001b[39m \u001b[38;5;28;01mif\u001b[39;00m sort_by_date \u001b[38;5;28;01melse\u001b[39;00m \u001b[38;5;124m\"\u001b[39m\u001b[38;5;124m\"\u001b[39m)\n",
      "\u001b[0;31mAssertionError\u001b[0m: Invalid search query."
     ]
    }
   ],
   "source": [
    "if __name__ == \"__main__\": \n",
    "    print(query_builder())"
   ]
  }
 ],
 "metadata": {
  "kernelspec": {
   "display_name": "Python 3 (ipykernel)",
   "language": "python",
   "name": "python3"
  },
  "language_info": {
   "codemirror_mode": {
    "name": "ipython",
    "version": 3
   },
   "file_extension": ".py",
   "mimetype": "text/x-python",
   "name": "python",
   "nbconvert_exporter": "python",
   "pygments_lexer": "ipython3",
   "version": "3.10.9"
  }
 },
 "nbformat": 4,
 "nbformat_minor": 5
}

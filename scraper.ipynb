{
 "cells": [
  {
   "cell_type": "code",
   "execution_count": null,
   "id": "87f1db8a-fe71-4cbd-9126-ea2df89fb8ae",
   "metadata": {},
   "outputs": [],
   "source": [
    "from bs4 import BeautifulSoup\n",
    "import requests\n",
    "import pandas as pd"
   ]
  },
  {
   "cell_type": "code",
   "execution_count": null,
   "id": "6527d1b9-260b-4122-b50a-5d7286934fa2",
   "metadata": {},
   "outputs": [],
   "source": [
    "def main():\n",
    "    pass"
   ]
  },
  {
   "cell_type": "code",
   "execution_count": 47,
   "id": "b312e05e-85cb-4f07-90ce-abc6a7054e17",
   "metadata": {},
   "outputs": [],
   "source": [
    "def query_composer(search: str, language: str = None, interval: tuple[int, int] = None,\n",
    "                   only_science: bool = None, include_patents: bool = None,\n",
    "                   include_citations: bool = None, sort_by_date: bool = None)-> str:\n",
    "    return f\"https://scholar.google.com/scholar?q={search}\" + \\\n",
    "        (\"\" if language is None else f\"&lr=lang_{language}?hl={language}\") + \\\n",
    "        (\"\" if interval is None else (f\"&as_ylo={interval[0]}\" + \\\n",
    "            (f\"&as_yhi={interval[1]}\" if len(interval) == 2 else \"\"))) + \\\n",
    "        (\"&as_rr=1\" if only_science else \"\") + \\\n",
    "        (\"&as_sdt=2007\" if include_patents else \"\") + \\\n",
    "        (\"&as_vis=1\" if include_citations else \"\") + \\\n",
    "        (\"&scisbd=1\" if sort_by_date else \"\")"
   ]
  },
  {
   "cell_type": "code",
   "execution_count": 48,
   "id": "f2878879-961e-454f-8f60-e20bd27af8a6",
   "metadata": {},
   "outputs": [
    {
     "name": "stdout",
     "output_type": "stream",
     "text": [
      "https://scholar.google.com/scholar?q=ciao&lr=lang_it?hl=it&as_ylo=2003&as_yhi=2004&as_rr=1&as_sdt=2007&as_vis=1\n"
     ]
    }
   ],
   "source": [
    "if __name__ == \"__main__\": \n",
    "    print(query_composer(\"ciao\", \"it\", (2003,2004), True, True, True))"
   ]
  }
 ],
 "metadata": {
  "kernelspec": {
   "display_name": "Python 3 (ipykernel)",
   "language": "python",
   "name": "python3"
  },
  "language_info": {
   "codemirror_mode": {
    "name": "ipython",
    "version": 3
   },
   "file_extension": ".py",
   "mimetype": "text/x-python",
   "name": "python",
   "nbconvert_exporter": "python",
   "pygments_lexer": "ipython3",
   "version": "3.10.9"
  }
 },
 "nbformat": 4,
 "nbformat_minor": 5
}

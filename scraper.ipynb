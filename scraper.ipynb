{
 "cells": [
  {
   "cell_type": "code",
   "execution_count": null,
   "id": "87f1db8a-fe71-4cbd-9126-ea2df89fb8ae",
   "metadata": {},
   "outputs": [],
   "source": [
    "from bs4 import BeautifulSoup\n",
    "import requests\n",
    "import pandas as pd"
   ]
  },
  {
   "cell_type": "code",
   "execution_count": null,
   "id": "6527d1b9-260b-4122-b50a-5d7286934fa2",
   "metadata": {},
   "outputs": [],
   "source": [
    "def main():\n",
    "    pass"
   ]
  },
  {
   "cell_type": "code",
   "execution_count": 3,
   "id": "b312e05e-85cb-4f07-90ce-abc6a7054e17",
   "metadata": {},
   "outputs": [],
   "source": [
    "def query_composer(search: str, language = None: str) -> str:\n",
    "    return f\"https://scholar.google.com/scholar?q={search} {(\"\" if language is None else f\"?lr=lang_{language}?hl={language}\")} +"
   ]
  },
  {
   "cell_type": "code",
   "execution_count": 4,
   "id": "f2878879-961e-454f-8f60-e20bd27af8a6",
   "metadata": {},
   "outputs": [
    {
     "name": "stdout",
     "output_type": "stream",
     "text": [
      "ciao\n"
     ]
    }
   ],
   "source": [
    "if __name__ == \"__main__\": pass"
   ]
  }
 ],
 "metadata": {
  "kernelspec": {
   "display_name": "Python 3 (ipykernel)",
   "language": "python",
   "name": "python3"
  },
  "language_info": {
   "codemirror_mode": {
    "name": "ipython",
    "version": 3
   },
   "file_extension": ".py",
   "mimetype": "text/x-python",
   "name": "python",
   "nbconvert_exporter": "python",
   "pygments_lexer": "ipython3",
   "version": "3.10.9"
  }
 },
 "nbformat": 4,
 "nbformat_minor": 5
}

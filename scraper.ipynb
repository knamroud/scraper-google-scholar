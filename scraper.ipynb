{
 "cells": [
  {
   "cell_type": "code",
   "execution_count": 14,
   "id": "87f1db8a-fe71-4cbd-9126-ea2df89fb8ae",
   "metadata": {},
   "outputs": [],
   "source": [
    "from bs4 import BeautifulSoup\n",
    "from time import sleep\n",
    "import pandas as pd\n",
    "from keybert import KeyBERT\n",
    "from requests_tor import RequestsTor\n",
    "from functools import partial\n",
    "import bibtexparser\n",
    "from multiprocessing import Process\n",
    "from subprocess import run"
   ]
  },
  {
   "cell_type": "code",
   "execution_count": 15,
   "id": "050dd7ee-f1f2-45bc-8dd4-4bb5b256c5f4",
   "metadata": {},
   "outputs": [],
   "source": [
    "# Author Kirelos Namroud, @knamroud on GitHub\n",
    "# On 20/01/2023 "
   ]
  },
  {
   "cell_type": "code",
   "execution_count": 16,
   "id": "aea977e7-6ebe-4ca2-878c-3dec4d5476e8",
   "metadata": {},
   "outputs": [],
   "source": [
    "HEADERS = {\n",
    "    \"Accept\": \"*\",\n",
    "    \"User-Agent\": \"Mozilla/5.0 (Windows NT 6.1; Win64; x64; rv:47.0) Gecko/20100101 Firefox/47.0\"\n",
    "}\n",
    "TOR_PORTS = {\n",
    "    \"main\": (9050,),\n",
    "    \"controller\": 9051,\n",
    "    \"others\": tuple(range(9000, 9010)) #10 ports are needed since the maximum results number on a page is 10\n",
    "}"
   ]
  },
  {
   "cell_type": "code",
   "execution_count": 17,
   "id": "6527d1b9-260b-4122-b50a-5d7286934fa2",
   "metadata": {},
   "outputs": [],
   "source": [
    "def main():\n",
    "    rt = RequestsTor(tor_ports=TOR_PORTS[\"main\"], tor_cport=TOR_PORTS[\"controller\"], autochange_id=0)\n",
    "    rt.new_ip = partial(new_ip, rt)\n",
    "    rt.new_ip()\n",
    "    data = scrape(query_builder(\"ciso\"), rt)\n",
    "    print(data)\n",
    "    create_csv(data, \"prova\")"
   ]
  },
  {
   "cell_type": "code",
   "execution_count": 18,
   "id": "cc332a14-0d3f-4445-b914-31f6506e92e6",
   "metadata": {},
   "outputs": [],
   "source": [
    "def new_ip(self):\n",
    "    '''Method used to make sure new_id gets a new exit node'''\n",
    "    ip = self.check_ip()\n",
    "    while(ip == self.check_ip()):\n",
    "        sleep(1)\n",
    "        self.new_id()"
   ]
  },
  {
   "cell_type": "code",
   "execution_count": 19,
   "id": "5f1bb44c-87fe-4230-bb02-ca3b52c3ceb9",
   "metadata": {},
   "outputs": [],
   "source": [
    "class ResultScraper(Process):\n",
    "    '''Class for scraping single results, using multithreading'''\n",
    "    def __init__(self, result: BeautifulSoup, tor_port: int):\n",
    "        super(ResultScraper, self).__init__()\n",
    "        self.result = result\n",
    "        self.data = None\n",
    "        self.rt = RequestsTor(tor_ports=(tor_port,),  tor_cport=TOR_PORTS[\"controller\"], autochange_id=0)\n",
    "        self.rt.new_ip = partial(new_ip, self.rt)\n",
    "        \n",
    "    def run(self):\n",
    "        self.rt.new_ip()\n",
    "        while True:\n",
    "            self.data = []\n",
    "            if (no := self.result.find(class_=\"gs_ggs gs_fl\")):\n",
    "                no.extract()\n",
    "            try:\n",
    "                self.data.append(get_keywords(\" \".join([content for content in self.result.find(\"div\", class_=\"gs_rs\").contents if isinstance(content, str)]).replace(\" \\n\", \"\")))\n",
    "                self.data.append(self.rt.get(BeautifulSoup(self.rt.get(f\"https://scholar.google.com/scholar?q=info:{self.result.get('data-cid')}:scholar.google.com/&output=cite\", headers=HEADERS).content, \"html.parser\").find(\"a\", class_=\"gs_citi\").get(\"href\"), headers=HEADERS).content.decode())\n",
    "                print(self.data)\n",
    "                assert \"html\" not in self.data[1], \"IP Blocked\"\n",
    "            except Exception as e:\n",
    "                print(e)\n",
    "                self.rt.new_ip()\n",
    "                continue\n",
    "            break"
   ]
  },
  {
   "cell_type": "code",
   "execution_count": 20,
   "id": "b312e05e-85cb-4f07-90ce-abc6a7054e17",
   "metadata": {},
   "outputs": [],
   "source": [
    "def query_builder(basic_search: str = None, includes_all: str = None, exact_sentence: str = None, includes_one: str = None, \n",
    "                  exclude: str = None, in_title: bool = None, language: str = None, interval: tuple = None, \n",
    "                  only_science: bool = None, include_patents: bool = None, include_citations: bool = None, sort_by_date: bool = None, \n",
    "                  authors: list = None, sources: list = None, page: int = None)-> str:\n",
    "    '''Create search queries for Google Scholar'''\n",
    "    assert bool(includes_all or exact_sentence or includes_one) ^ bool(basic_search and not (authors or sources or in_title)), \"Invalid search query.\" \n",
    "    return \"https://scholar.google.com/scholar?\" + \\\n",
    "        (f\"&q={basic_search.replace(' ', '+')}\" if basic_search else \"\") + \\\n",
    "        (f\"&as_q={includes_all.replace(' ', '+')}\" if includes_all else \"\") + \\\n",
    "        (f\"&as_epq={exact_sentence.replace(' ', '+')}\" if exact_sentence else \"\") + \\\n",
    "        (f\"&as_oq={includes_one.replace(' ', '+')}\" if includes_one else \"\") + \\\n",
    "        (f\"&as_eq={exclude.replace(' ', '+')}\" if exclude else \"\") + \\\n",
    "        (f\"&as_occt=title\" if in_title else \"\") + \\\n",
    "        (f\"\"\"&as_sauthors={'+'.join([f'\"{a.replace(\" \", \"+\")}\"' for a in authors])}\"\"\" if authors else \"\") + \\\n",
    "        (f\"\"\"&as_publication={'+'.join([f'\"{s.replace(\" \", \"+\")}\"' for s in sources])}\"\"\" if sources else \"\") + \\\n",
    "        (f\"&lr=lang_{language}?hl={language}\" if language else \"\") + \\\n",
    "        (((f\"&as_ylo={interval[0]}\" + \\\n",
    "            (f\"&as_yhi={interval[1]}\" if len(interval) == 2 else \"\"))) if interval else \"\") + \\\n",
    "        (\"&as_rr=1\" if only_science else \"\") + \\\n",
    "        (\"&as_sdt=2007\" if include_patents else \"\") + \\\n",
    "        (\"&as_vis=1\" if include_citations else \"\") + \\\n",
    "        (\"&scisbd=1\" if sort_by_date else \"\") + \\\n",
    "        (f\"&start={(page-1)*10}\" if page else \"\")"
   ]
  },
  {
   "cell_type": "code",
   "execution_count": 21,
   "id": "f2878879-961e-454f-8f60-e20bd27af8a6",
   "metadata": {},
   "outputs": [],
   "source": [
    "def scrape(search: str, rt: RequestsTor) -> list:\n",
    "    '''Scrapes data from given search query'''\n",
    "    while True:\n",
    "        try:\n",
    "            soup = BeautifulSoup(rt.get(search, headers=HEADERS).content, \"html.parser\")\n",
    "            soup.style.decompose()\n",
    "            soup.br.decompose()\n",
    "            results = soup.find_all(\"div\", class_ =\"gs_r gs_or gs_scl\")\n",
    "        except Exception as e:\n",
    "            print(e)\n",
    "            rt.new_ip()\n",
    "            continue\n",
    "        break\n",
    "    threads = [ResultScraper(results[i], TOR_PORTS[\"others\"][i]) for i in range(len(results))]\n",
    "    for thread in threads:\n",
    "        thread.start()\n",
    "    for thread in threads:\n",
    "        thread.join()\n",
    "    data = [thread.data for thread in threads]\n",
    "    return data"
   ]
  },
  {
   "cell_type": "code",
   "execution_count": 22,
   "id": "2b369d59-8b8c-4a11-9e7d-31317ab37247",
   "metadata": {},
   "outputs": [],
   "source": [
    "def get_keywords(text: str) -> str:\n",
    "    '''Parse keywords from description of articles'''\n",
    "    kw_model = KeyBERT()\n",
    "    keywords = kw_model.extract_keywords(text)\n",
    "    return \", \".join([kw[0] for kw in keywords])"
   ]
  },
  {
   "cell_type": "code",
   "execution_count": 23,
   "id": "56343d42-739c-419f-bb6d-b37bdcd7ed28",
   "metadata": {},
   "outputs": [],
   "source": [
    "def create_csv(data: list, file: str):\n",
    "    '''Write data on a csv file'''\n",
    "    data = {\n",
    "        \"Title\": [], \n",
    "        \"Author\": [],\n",
    "        \"\": [],\n",
    "        \n",
    "    }\n",
    "    "
   ]
  },
  {
   "cell_type": "code",
   "execution_count": 24,
   "id": "c72b1892-140b-4d06-9f5c-bdf2d6764a43",
   "metadata": {},
   "outputs": [
    {
     "name": "stdout",
     "output_type": "stream",
     "text": [
      "'NoneType' object has no attribute 'get'\n",
      "['ceo, cio, obtain, ascertain, questions', '@article{fitzgerald2007clarifying,\\n  title={Clarifying the roles of information security: 13 questions the CEO, CIO, and CISO must ask each other},\\n  author={Fitzgerald, Todd},\\n  journal={Information Systems Security},\\n  volume={16},\\n  number={5},\\n  pages={257--263},\\n  year={2007},\\n  publisher={Taylor \\\\& Francis}\\n}\\n']\n",
      "['cyber, companies, role, mitigate, exposure', '@article{zwilling2022trends,\\n  title={Trends and Challenges Regarding Cyber Risk Mitigation by CISOs—A Systematic Literature and Experts’ Opinion Review Based on Text Analytics},\\n  author={Zwilling, Moti},\\n  journal={Sustainability},\\n  volume={14},\\n  number={3},\\n  pages={1311},\\n  year={2022},\\n  publisher={MDPI}\\n}\\n']\n",
      "['auerbach, fax, handbook, publications, order', '@book{gentile2016ciso,\\n  title={The CISO Handbook: A Practical Guide to Securing Your Company},\\n  author={Gentile, Michael and Collette, Ron and August, Thomas D},\\n  year={2016},\\n  publisher={Auerbach Publications}\\n}\\n']\n",
      "['survey, data, organizations, selecting, job', '@article{hooper2016emerging,\\n  title={The emerging role of the CISO},\\n  author={Hooper, Val and McKissack, Jeremy},\\n  journal={Business Horizons},\\n  volume={59},\\n  number={6},\\n  pages={585--591},\\n  year={2016},\\n  publisher={Elsevier}\\n}\\n']\n",
      "['firms, firm, 2010, 2014, results', '@article{karanja2017chief,\\n  title={The chief information security officer: An exploratory study},\\n  author={Karanja, Erastus and Rosso, Mark A},\\n  journal={Journal of International Technology and Information Management},\\n  volume={26},\\n  number={2},\\n  pages={23--47},\\n  year={2017}\\n}\\n']\n",
      "['strategic, role, dimensions, requisite, consequently', '@article{maynard2018defining,\\n  title={Defining the strategic role of the chief information security officer},\\n  author={Maynard, Sean and Onibere, Mazino and Ahmad, Atif},\\n  journal={Pacific Asia Journal of the Association for Information Systems},\\n  volume={10},\\n  number={3},\\n  pages={3},\\n  year={2018}\\n}\\n']\n",
      "['roles, role, organisations, understanding, performs', '@article{da2022cyber,\\n  title={\" Cyber security is a dark art\": The CISO as Soothsayer},\\n  author={Da Silva, Joseph and Jensen, Rikke Bjerg},\\n  journal={Proceedings of the ACM on Human-Computer Interaction},\\n  volume={6},\\n  number={CSCW2},\\n  pages={1--31},\\n  year={2022},\\n  publisher={ACM New York, NY, USA}\\n}\\n']\n",
      "['credibility, responsibility, role, develop, effective', '<!DOCTYPE html><html lang=en><meta charset=utf-8><meta name=viewport content=\"initial-scale=1, minimum-scale=1, width=device-width\"><title>Error 403 (Forbidden)!!1</title><style>*{margin:0;padding:0}html,code{font:15px/22px arial,sans-serif}html{background:#fff;color:#222;padding:15px}body{margin:7% auto 0;max-width:390px;min-height:180px;padding:30px 0 15px}* > body{background:url(//www.google.com/images/errors/robot.png) 100% 5px no-repeat;padding-right:205px}p{margin:11px 0 22px;overflow:hidden}ins{color:#777;text-decoration:none}a img{border:0}@media screen and (max-width:772px){body{background:none;margin-top:0;max-width:none;padding-right:0}}#logo{background:url(//www.google.com/images/branding/googlelogo/1x/googlelogo_color_150x54dp.png) no-repeat;margin-left:-5px}@media only screen and (min-resolution:192dpi){#logo{background:url(//www.google.com/images/branding/googlelogo/2x/googlelogo_color_150x54dp.png) no-repeat 0% 0%/100% 100%;-moz-border-image:url(//www.google.com/images/branding/googlelogo/2x/googlelogo_color_150x54dp.png) 0}}@media only screen and (-webkit-min-device-pixel-ratio:2){#logo{background:url(//www.google.com/images/branding/googlelogo/2x/googlelogo_color_150x54dp.png) no-repeat;-webkit-background-size:100% 100%}}#logo{display:inline-block;height:54px;width:150px}</style><a href=//www.google.com/><span id=logo aria-label=Google></span></a><p><b>403.</b> <ins>That’s an error.</ins><p>Your client does not have permission to get URL <code>/scholar.bib?q=info:c03uLMWKxBwJ:scholar.google.com/&amp;output=citation&amp;scisdr=CgXsHL02GAA:AAGBfm0AAAAAZAcqLhAZKO3PVY7h_z5VyrXJaAlV3igj&amp;scisig=AAGBfm0AAAAAZAcqLn53NCWXQxcM-v7OydPaudKWHqeI&amp;scisf=4&amp;ct=citation&amp;cd=-1&amp;hl=ro</code> from this server.  (Client IP address: 185.220.100.246)<br><br>\\nPlease see Google\\'s Terms of Service posted at https://policies.google.com/terms\\n<BR><BR>\\n                                                                                                                                                                                                                                                                                                                                                                                                                                                                                                                                        \\r\\n  <ins>That’s all we know.</ins>']\n",
      "IP Blocked\n",
      "['skills, organizations, developed, defining, ultimately', '@article{whitten2008chief,\\n  title={The chief information security officer: An analysis of the skills required for success},\\n  author={Whitten, Dwayne},\\n  journal={Journal of Computer Information Systems},\\n  volume={48},\\n  number={3},\\n  pages={15--19},\\n  year={2008},\\n  publisher={Taylor \\\\& Francis}\\n}\\n']\n",
      "'NoneType' object has no attribute 'get'\n",
      "'NoneType' object has no attribute 'get'\n",
      "'NoneType' object has no attribute 'get'\n",
      "'NoneType' object has no attribute 'get'\n",
      "'NoneType' object has no attribute 'get'\n",
      "'NoneType' object has no attribute 'get'\n",
      "'NoneType' object has no attribute 'get'\n",
      "'NoneType' object has no attribute 'get'\n",
      "'NoneType' object has no attribute 'get'\n",
      "'NoneType' object has no attribute 'get'\n",
      "'NoneType' object has no attribute 'get'\n",
      "'NoneType' object has no attribute 'get'\n",
      "'NoneType' object has no attribute 'get'\n",
      "'NoneType' object has no attribute 'get'\n",
      "'NoneType' object has no attribute 'get'\n",
      "'NoneType' object has no attribute 'get'\n",
      "'NoneType' object has no attribute 'get'\n",
      "'NoneType' object has no attribute 'get'\n",
      "'NoneType' object has no attribute 'get'\n",
      "'NoneType' object has no attribute 'get'\n",
      "['credibility, responsibility, role, develop, effective', '@article{ashenden2013cisos,\\n  title={CISOs and organisational culture: Their own worst enemy?},\\n  author={Ashenden, Debi and Sasse, Angela},\\n  journal={Computers \\\\& Security},\\n  volume={39},\\n  pages={396--405},\\n  year={2013},\\n  publisher={Elsevier}\\n}\\n']\n",
      "['role, management, literature, investigating, position', '@article{karanja2017role,\\n  title={The role of the chief information security officer in the management of IT security},\\n  author={Karanja, Erastus},\\n  journal={Information \\\\& Computer Security},\\n  volume={25},\\n  number={3},\\n  pages={300--329},\\n  year={2017},\\n  publisher={Emerald Publishing Limited}\\n}\\n']\n",
      "[None, None, None, None, None, None, None, None, None, None]\n"
     ]
    }
   ],
   "source": [
    "if __name__== \"__main__\":\n",
    "    main()"
   ]
  },
  {
   "cell_type": "code",
   "execution_count": null,
   "id": "52186632-ffee-4a60-8eb6-98dfb1c58c1c",
   "metadata": {},
   "outputs": [],
   "source": []
  },
  {
   "cell_type": "code",
   "execution_count": null,
   "id": "c4d4b891-a8ed-4e94-b0f0-7e0dfd9f953e",
   "metadata": {},
   "outputs": [],
   "source": []
  }
 ],
 "metadata": {
  "kernelspec": {
   "display_name": "scraper-google-scholar-PVqszBlI",
   "language": "python",
   "name": "scraper-google-scholar-pvqszbli"
  },
  "language_info": {
   "codemirror_mode": {
    "name": "ipython",
    "version": 3
   },
   "file_extension": ".py",
   "mimetype": "text/x-python",
   "name": "python",
   "nbconvert_exporter": "python",
   "pygments_lexer": "ipython3",
   "version": "3.8.16"
  }
 },
 "nbformat": 4,
 "nbformat_minor": 5
}

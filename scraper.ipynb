{
 "cells": [
  {
   "cell_type": "code",
   "execution_count": null,
   "id": "87f1db8a-fe71-4cbd-9126-ea2df89fb8ae",
   "metadata": {},
   "outputs": [],
   "source": [
    "from bs4 import BeautifulSoup\n",
    "import requests\n",
    "import pandas as pd"
   ]
  },
  {
   "cell_type": "code",
   "execution_count": null,
   "id": "6527d1b9-260b-4122-b50a-5d7286934fa2",
   "metadata": {},
   "outputs": [],
   "source": [
    "def main():\n",
    "    pass"
   ]
  },
  {
   "cell_type": "code",
   "execution_count": 39,
   "id": "b312e05e-85cb-4f07-90ce-abc6a7054e17",
   "metadata": {},
   "outputs": [],
   "source": [
    "def query_builder(basic_search: str = None, includes_all: str = None, exact_sentence: str = None,\n",
    "                  includes_one: str = None, exclude: str = None, in_title: bool = None, language: str = None, \n",
    "                  interval: tuple[int, int] = None, only_science: bool = None, include_patents: bool = None, \n",
    "                  include_citations: bool = None, sort_by_date: bool = None, authors: list = None, sources: list = None)-> str:\n",
    "    '''Create search queries for Google Scholar'''\n",
    "    filters = bool(authors or sources or in_title)\n",
    "    advanced_search = bool(includes_all or exact_sentence or includes_one) \n",
    "    assert (not advanced_search and not filters) if basic_search else True, \"Invalid search query.\"\n",
    "    assert (bool(basic_search) ^ advanced_search) or (bool(basic_search) ^ (advanced_search and filters)), \"Invalid search query.\"\n",
    "    if interval and len(interval) == 2: assert interval[0] < interval[1], \"Invalid interval requested.\"\n",
    "    return \"https://scholar.google.com/scholar?\" + \\\n",
    "        (f\"&q={basic_search.replace(' ', '+')}\" if basic_search else \"\") + \\\n",
    "        (f\"&as_q={includes_all.replace(' ', '+')}\" if includes_all else \"\") + \\\n",
    "        (f\"&as_epq={exact_sentence.replace(' ', '+')}\" if exact_sentence else \"\") + \\\n",
    "        (f\"&as_oq={includes_one.replace(' ', '+')}\" if includes_one else \"\") + \\\n",
    "        (f\"&as_eq={exclude.replace(' ', '+')}\" if exclude else \"\") + \\\n",
    "        (f\"&as_occt=title\" if in_title else \"\") + \\\n",
    "        (f\"\"\"&as_sauthors={'+'.join([f'\"{a.replace(\" \", \"+\")}\"' for a in authors])}\"\"\" if authors else \"\") + \\\n",
    "        (f\"\"\"&as_publication={'+'.join([f'\"{s.replace(\" \", \"+\")}\"' for s in sources])}\"\"\" if sources else \"\") + \\\n",
    "        (f\"&lr=lang_{language}?hl={language}\" if language else \"\") + \\\n",
    "        (((f\"&as_ylo={interval[0]}\" + \\\n",
    "            (f\"&as_yhi={interval[1]}\" if len(interval) == 2 else \"\"))) if interval else \"\") + \\\n",
    "        (\"&as_rr=1\" if only_science else \"\") + \\\n",
    "        (\"&as_sdt=2007\" if include_patents else \"\") + \\\n",
    "        (\"&as_vis=1\" if include_citations else \"\") + \\\n",
    "        (\"&scisbd=1\" if sort_by_date else \"\")"
   ]
  },
  {
   "cell_type": "code",
   "execution_count": 43,
   "id": "f2878879-961e-454f-8f60-e20bd27af8a6",
   "metadata": {},
   "outputs": [
    {
     "name": "stdout",
     "output_type": "stream",
     "text": [
      "https://scholar.google.com/scholar?&q=test&lr=lang_it?hl=it\n"
     ]
    }
   ],
   "source": [
    "if __name__ == \"__main__\": \n",
    "    print(query_builder(\"test\", language=\"it\"))"
   ]
  }
 ],
 "metadata": {
  "kernelspec": {
   "display_name": "Python 3 (ipykernel)",
   "language": "python",
   "name": "python3"
  },
  "language_info": {
   "codemirror_mode": {
    "name": "ipython",
    "version": 3
   },
   "file_extension": ".py",
   "mimetype": "text/x-python",
   "name": "python",
   "nbconvert_exporter": "python",
   "pygments_lexer": "ipython3",
   "version": "3.10.9"
  }
 },
 "nbformat": 4,
 "nbformat_minor": 5
}
